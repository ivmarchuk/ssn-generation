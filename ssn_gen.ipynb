{
  "nbformat": 4,
  "nbformat_minor": 0,
  "metadata": {
    "colab": {
      "provenance": [],
      "collapsed_sections": [],
      "authorship_tag": "ABX9TyNjWJtc2wIZWnGfcDIhuD7d",
      "include_colab_link": true
    },
    "kernelspec": {
      "name": "python3",
      "display_name": "Python 3"
    },
    "language_info": {
      "name": "python"
    }
  },
  "cells": [
    {
      "cell_type": "markdown",
      "metadata": {
        "id": "view-in-github",
        "colab_type": "text"
      },
      "source": [
        "<a href=\"https://colab.research.google.com/github/ivmarchuk/ssn-generation/blob/main/ssn_gen.ipynb\" target=\"_parent\"><img src=\"https://colab.research.google.com/assets/colab-badge.svg\" alt=\"Open In Colab\"/></a>"
      ]
    },
    {
      "cell_type": "code",
      "execution_count": null,
      "metadata": {
        "id": "FMMikKCpDJp6"
      },
      "outputs": [],
      "source": [
        "!pip install faker"
      ]
    },
    {
      "cell_type": "code",
      "source": [
        "from faker import Faker\n",
        "from datetime import datetime\n",
        "import pandas as pd\n",
        "import datetime\n",
        "import random\n",
        "from random import randint\n",
        "import sys\n",
        "from faker.providers.ssn.pl_PL import Provider as SsnProvider"
      ],
      "metadata": {
        "id": "2752QgY4sPGF"
      },
      "execution_count": null,
      "outputs": []
    },
    {
      "cell_type": "code",
      "source": [
        "@measure_time\n",
        "def generate_ssn(num):\n",
        "  '''Generates a random valid pesel number using faker library.\n",
        "      As input takes the amount of PESEL values to be generated '''\n",
        "  fake = Faker()\n",
        "  \n",
        "  # According to faker docs we can guarantee that any generated values are unique for this specific instance.\n",
        "  fake.add_provider(SsnProvider)\n",
        "  pesels1 = [fake.unique.ssn() for i in range(num)]\n",
        "  pesel_series1 = pd.Series(pesels1)\n",
        "  return pesel_series1"
      ],
      "metadata": {
        "id": "ADzXhHomDxIK"
      },
      "execution_count": null,
      "outputs": []
    },
    {
      "cell_type": "code",
      "source": [
        "def valid_month_value(birth_date): \n",
        "  '''https://www.oecd.org/tax/automatic-exchange/crs-implementation-and-assistance/tax-identification-numbers/Poland-TIN.pdf\n",
        "    Based on the above document, the 3rd and 4th digits in the pesel number are generated based on the month from the person's date of birth. \n",
        "    Depending on the century in which the person was born, a number is added to the value of the month. \n",
        "    This function verifies the entered month value and outputs the correct month digits for pesel generation. '''\n",
        "\n",
        "  \n",
        "  if datetime.date(1800,1,31) <= birth_date <= datetime.date(1899,12,31):\n",
        "    month = str(int(birth_date.strftime('%m') + 80))\n",
        "\n",
        "  elif datetime.date(1900,1,1) <= birth_date <= datetime.date(1999,12,31):\n",
        "    month = birth_date.strftime('%m')\n",
        "\n",
        "  elif datetime.date(2000,1,1) <= birth_date <= datetime.date(2099,12,31):\n",
        "    month = str(int(birth_date.strftime('%m') + 20))\n",
        "\n",
        "  elif datetime.date(2100,1,1) <= birth_date <= datetime.date(2199,12,31):\n",
        "    month = str(int(birth_date.strftime('%m') + 40))\n",
        "\n",
        "  elif datetime.date(2200,1,1) <= birth_date <= datetime.date(2299,12,31):\n",
        "    month = str(int(birth_date.strftime('%m') + 60))\n",
        "\n",
        "  return month\n",
        "\n",
        "\n",
        "\n",
        "\n",
        "def get_check_digit(pesel):\n",
        "  '''The check digit is generated last, based on the remaining digits in the pesel number.\n",
        "      This function gives the logic for generating such a number.\n",
        "      Formula: 10 - (last_digit_of_sum(c1*1 + c2*3 + c3*7 + c4*9 + c5*1 + c6*3 + c7*7 + c8*9 + c9 *1 + c10*3))\n",
        "      For more https://www.oecd.org/tax/automatic-exchange/crs-implementation-and-assistance/tax-identification-numbers/Poland-TIN.pdf''' \n",
        "\n",
        "  formula_sum = int(pesel[0]) * 1 + int(pesel[1])*3 + int(pesel[2])*7 + int(pesel[3])*9 \\\n",
        "                + int(pesel[4])* 1 + int(pesel[5])*3 + int(pesel[6])*7 + int(pesel[7])*9 \\\n",
        "                + int(pesel[8])*1 + int(pesel[9])*3\n",
        "        \n",
        "  # get the last digit of formula sum (we are sure, that the number will be > 0)\n",
        "  formula_last_digit = formula_sum % 10\n",
        "  if 10-formula_last_digit == 10: \n",
        "    k = 0\n",
        "  else: \n",
        "    k = 10-formula_last_digit\n",
        "\n",
        "  return k\n"
      ],
      "metadata": {
        "id": "vX9RJCJ2FoHj"
      },
      "execution_count": null,
      "outputs": []
    },
    {
      "cell_type": "code",
      "source": [
        "@measure_time\n",
        "def generate_unique_ssn(num, sex, start_date, end_date):\n",
        "    fake = Faker()\n",
        "    pesels2 = []\n",
        "    start_date = datetime.datetime.strptime(start_date, '%Y-%m-%d')\n",
        "    end_date = datetime.datetime.strptime(end_date, '%Y-%m-%d')\n",
        "\n",
        "    while len(pesels2) != num: \n",
        "\n",
        "        # Get year value\n",
        "        birth_date = fake.date_between(start_date = start_date, end_date = end_date)\n",
        "        year = str(birth_date)[2:4]\n",
        "\n",
        "        # Get month value\n",
        "        month = valid_month_value(birth_date)\n",
        "\n",
        "        # Get day value \n",
        "        day = birth_date.strftime('%d')\n",
        "\n",
        "        # XXX - random number\n",
        "        digit_1 = str(random.randint(0,9))\n",
        "        digit_2 = str(random.randint(0,9))\n",
        "        digit_3 = str(random.randint(0,9))\n",
        "        xxx = digit_1 + digit_2 + digit_3\n",
        "\n",
        "        # G – random digit indicates person’s gender (odd number is for male, even – for female)\n",
        "        if sex == 'M': \n",
        "            s = str(random.randrange(1, 10, step = 2))\n",
        "        elif sex == 'F':\n",
        "            s = str(random.randrange(0, 10, step = 2))\n",
        "        else:\n",
        "          x = 'Wrong sex char provided'\n",
        "          return x \n",
        "\n",
        "        # get 10 digits of pesel to generate check digit\n",
        "        pesel = year + month + day + xxx + s\n",
        "\n",
        "        # Get check digit \n",
        "        k = get_check_digit(pesel)\n",
        "        pesel = pesel + str(k)\n",
        "\n",
        "        # Validate if pesel is unique\n",
        "        if pesel in pesels2:\n",
        "            continue\n",
        "        \n",
        "        pesels2.append(pesel)\n",
        "\n",
        "    pesel_series2 = pd.Series(pesels2)\n",
        "\n",
        "    return pesel_series2\n"
      ],
      "metadata": {
        "id": "27y5dH-qIPk3"
      },
      "execution_count": null,
      "outputs": []
    },
    {
      "cell_type": "code",
      "source": [
        "# ----------------------------------------------------------------------------------------------------------------------------------"
      ],
      "metadata": {
        "id": "Mws9gbhfqMLR"
      },
      "execution_count": null,
      "outputs": []
    },
    {
      "cell_type": "code",
      "source": [
        "# timer as decorator \n",
        "from functools import wraps\n",
        "import time\n",
        "\n",
        "def measure_time(func):\n",
        "    @wraps(func)\n",
        "    def timeit_wrapper(*args, **kwargs):\n",
        "        start_time = time.perf_counter()\n",
        "        result = func(*args, **kwargs)\n",
        "        end_time = time.perf_counter()\n",
        "        total_time = end_time - start_time\n",
        "        print(f'Function {func.__name__}{args} {kwargs} Executed in {total_time:.4f} seconds')\n",
        "        return result\n",
        "    return timeit_wrapper"
      ],
      "metadata": {
        "id": "Pp7UbAEIqNf8"
      },
      "execution_count": null,
      "outputs": []
    },
    {
      "cell_type": "code",
      "source": [
        "# generate_ssns for 1000\n",
        "pesel_series1 = generate_ssn(num = 1000)\n",
        "pesel_series1"
      ],
      "metadata": {
        "id": "stHaOAZUqNxU"
      },
      "execution_count": null,
      "outputs": []
    },
    {
      "cell_type": "markdown",
      "source": [
        "Executed in 0.0757 seconds\n",
        "\n",
        "Length: 1000, dtype: object"
      ],
      "metadata": {
        "id": "i5eio9wWMHaG"
      }
    },
    {
      "cell_type": "code",
      "source": [
        "# generate_ssns for 10000\n",
        "pesel_series1 = generate_ssn(num = 10000)\n",
        "pesel_series1"
      ],
      "metadata": {
        "id": "Tde2H38DqN0L"
      },
      "execution_count": null,
      "outputs": []
    },
    {
      "cell_type": "markdown",
      "source": [
        "Executed in 0.5105 seconds\n",
        "\n",
        "Length: 10000, dtype: object"
      ],
      "metadata": {
        "id": "f8nMJGJ8MNMa"
      }
    },
    {
      "cell_type": "code",
      "source": [
        "# generate_ssns for 100000\n",
        "pesel_series1 = generate_ssn(num = 100000)\n",
        "pesel_series1"
      ],
      "metadata": {
        "id": "HEHzMHVhqN3Z"
      },
      "execution_count": null,
      "outputs": []
    },
    {
      "cell_type": "markdown",
      "source": [
        "Executed in 4.8408 seconds\n",
        "\n",
        "Length: 100000, dtype: object"
      ],
      "metadata": {
        "id": "8TEBxkVLMRYB"
      }
    },
    {
      "cell_type": "code",
      "source": [
        "pesel_series1.duplicated().value_counts()"
      ],
      "metadata": {
        "id": "NWixx1ElMfPy"
      },
      "execution_count": null,
      "outputs": []
    },
    {
      "cell_type": "markdown",
      "source": [
        "False    100000\n",
        "\n",
        "dtype: int64"
      ],
      "metadata": {
        "id": "FkHU5HqMMipt"
      }
    },
    {
      "cell_type": "code",
      "source": [
        "# generate_unique_ssns for 1000\n",
        "pesel_series2 = generate_unique_ssn(num = 1000, sex = 'F', start_date = '1990-01-01', end_date = '1990-01-19')\n",
        "pesel_series2"
      ],
      "metadata": {
        "id": "2cb7kRlGqN7V"
      },
      "execution_count": null,
      "outputs": []
    },
    {
      "cell_type": "markdown",
      "source": [
        "Executed in 0.1173 seconds\n",
        "\n",
        "Length: 1000, dtype: object"
      ],
      "metadata": {
        "id": "qu4K0xZ3MsXg"
      }
    },
    {
      "cell_type": "code",
      "source": [
        "# generate_unique_ssns for 10000\n",
        "pesel_series2 = generate_unique_ssn(num = 10000, sex = 'F', start_date = '1990-01-01', end_date = '1990-01-19')\n",
        "pesel_series2"
      ],
      "metadata": {
        "id": "m-uJyYrjqOAn"
      },
      "execution_count": null,
      "outputs": []
    },
    {
      "cell_type": "markdown",
      "source": [
        "Executed in 1.7615 seconds\n",
        "\n",
        "Length: 10000, dtype: object"
      ],
      "metadata": {
        "id": "5r1Ize3gMx3O"
      }
    },
    {
      "cell_type": "code",
      "source": [
        "# generate_unique_ssns for 100000\n",
        "pesel_series2 = generate_unique_ssn(num = 100000, sex = 'F', start_date = '1990-01-01', end_date = '1990-01-19')\n",
        "pesel_series2"
      ],
      "metadata": {
        "id": "89PrvEKbswC3"
      },
      "execution_count": null,
      "outputs": []
    },
    {
      "cell_type": "markdown",
      "source": [
        "Executed in 573.1589 seconds\n",
        "\n",
        "Length: 10000, dtype: object"
      ],
      "metadata": {
        "id": "Y_UvWJ-BQ26I"
      }
    },
    {
      "cell_type": "code",
      "source": [
        "pesel_series2.duplicated().value_counts()"
      ],
      "metadata": {
        "id": "U95HDem6NGnY"
      },
      "execution_count": null,
      "outputs": []
    },
    {
      "cell_type": "markdown",
      "source": [
        "False    100000\n",
        "\n",
        "dtype: int64"
      ],
      "metadata": {
        "id": "U46wzRdYRCOi"
      }
    },
    {
      "cell_type": "code",
      "source": [
        "# --------------------------------------------------------------------------------------------------------------------------------------------"
      ],
      "metadata": {
        "id": "CW0o-apbswHR"
      },
      "execution_count": null,
      "outputs": []
    },
    {
      "cell_type": "code",
      "source": [
        "def validate_ssns(pesel, sex = None, birth_date = None): \n",
        "  x = True\n",
        "  # check if parsel length is 11 and its consists of digits\n",
        "  if isinstance(pesel, int):\n",
        "    pesel = str(pesel)\n",
        "  if not (pesel.isdigit() and len(pesel) == 11):\n",
        "    x = False\n",
        "\n",
        "  # check if YYMMDD is equal to values in provided birth_date\n",
        "  if birth_date:         \n",
        "    year = str(birth_date)[2:4]\n",
        "    if pesel[0:2] != year:\n",
        "      x = False\n",
        "    \n",
        "    month = valid_month_value(birth_date)\n",
        "    if pesel[2:4] != month:\n",
        "      x = False\n",
        "\n",
        "    day = birth_date.strftime('%d')\n",
        "    if pesel[4:6] != day: \n",
        "      x = False\n",
        "\n",
        "  # check if sex digit is valid\n",
        "  if sex: \n",
        "    sex_int = int(pesel[-2])\n",
        "    if sex == 'M' and sex_int % 2 == 1:\n",
        "      x = True\n",
        "    elif sex == 'F' and sex_int % 2 == 0:\n",
        "      x = True\n",
        "    else: \n",
        "      x = False\n",
        "\n",
        "  # checksum\n",
        "  k = get_check_digit(pesel)\n",
        "\n",
        "  if pesel[-1] != str(k):\n",
        "    x = False\n",
        "\n",
        "  return x\n"
      ],
      "metadata": {
        "id": "vHCRrJ-0KrnF"
      },
      "execution_count": null,
      "outputs": []
    },
    {
      "cell_type": "code",
      "source": [
        "pesels_to_check = [900101244291111, 90012130359772, 90010273727, 90010369048, 90010363424, 90010283867, 90010148863, 900102477122, 90010110371]"
      ],
      "metadata": {
        "id": "sj5KceV933N9"
      },
      "execution_count": null,
      "outputs": []
    },
    {
      "cell_type": "code",
      "source": [
        "checked_pesels = {}\n",
        "for pesel in pesels_to_check: \n",
        "  checked_pesels[pesel] = validate_ssns(pesel, sex = 'F')\n",
        "checked_pesels"
      ],
      "metadata": {
        "id": "rbAwkaIYXxvd"
      },
      "execution_count": null,
      "outputs": []
    },
    {
      "cell_type": "markdown",
      "source": [
        "{90010110371: False,\n",
        "\n",
        " 90010148863: True,\n",
        "\n",
        " 90010273727: True,\n",
        "\n",
        " 90010283867: True,\n",
        "\n",
        " 90010363424: True,\n",
        "\n",
        " 90010369048: True,\n",
        "\n",
        " 900102477122: False,\n",
        "\n",
        " 90012130359772: False,\n",
        " \n",
        " 900101244291111: False}"
      ],
      "metadata": {
        "id": "iLIZWEwCRM62"
      }
    }
  ]
}